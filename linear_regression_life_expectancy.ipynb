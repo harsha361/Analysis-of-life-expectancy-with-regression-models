{
  "nbformat": 4,
  "nbformat_minor": 0,
  "metadata": {
    "colab": {
      "provenance": [],
      "authorship_tag": "ABX9TyO7kRx/7w9Tlk9qS0OPMN8c",
      "include_colab_link": true
    },
    "kernelspec": {
      "name": "python3",
      "display_name": "Python 3"
    },
    "language_info": {
      "name": "python"
    }
  },
  "cells": [
    {
      "cell_type": "markdown",
      "metadata": {
        "id": "view-in-github",
        "colab_type": "text"
      },
      "source": [
        "<a href=\"https://colab.research.google.com/github/harsha361/Analysis-of-life-expectancy-with-regression-models/blob/main/linear_regression_life_expectancy.ipynb\" target=\"_parent\"><img src=\"https://colab.research.google.com/assets/colab-badge.svg\" alt=\"Open In Colab\"/></a>"
      ]
    },
    {
      "cell_type": "code",
      "execution_count": 31,
      "metadata": {
        "colab": {
          "base_uri": "https://localhost:8080/"
        },
        "id": "fWqYyXp6P5kV",
        "outputId": "cd2cdc5d-81e2-4fe8-dde2-c70d16c4ea44"
      },
      "outputs": [
        {
          "output_type": "stream",
          "name": "stdout",
          "text": [
            "0.7445371444664803\n"
          ]
        }
      ],
      "source": [
        "import numpy as np\n",
        "import pandas as pd\n",
        "import matplotlib.pyplot as plt\n",
        "dataset=pd.read_csv('Life Expectancy Data.csv',sep=',')\n",
        "\n",
        "dataset.dropna(subset=['Life expectancy '],inplace=True)\n",
        "\n",
        "from sklearn.preprocessing import LabelEncoder\n",
        "dataset['Country']=LabelEncoder().fit_transform(dataset['Country'])\n",
        "dataset['Status']=LabelEncoder().fit_transform(dataset['Status'])\n",
        "corrmatrix=dataset.corr()\n",
        "targetcolumn='Life expectancy '\n",
        "correlatedtarget=corrmatrix[targetcolumn].sort_values(ascending=False)\n",
        "\n",
        "\n",
        "corr1=dataset['Life expectancy '].corr(dataset['Population'])\n",
        "\n",
        "dataset.isna().sum()\n",
        "dataset=dataset.drop(columns=['Population','Country','Hepatitis B'],axis=1)\n",
        "\n",
        "dataset.fillna(dataset.mean(),inplace=True)\n",
        "dataset.isna().sum()\n",
        "\n",
        "X=dataset.iloc[:,:-1]\n",
        "y=dataset.iloc[:,-1]\n",
        "\n",
        "\n",
        "from sklearn.preprocessing import StandardScaler\n",
        "scaler=StandardScaler()\n",
        "X=scaler.fit_transform(X)\n",
        "from sklearn.model_selection import train_test_split\n",
        "X_train,X_test,ytrain,ytest=train_test_split(X,y,test_size=0.3)\n",
        "from sklearn.linear_model import LinearRegression\n",
        "linreg=LinearRegression()\n",
        "linreg.fit(X_train,ytrain)\n",
        "ypred=linreg.predict(X_test)\n",
        "from sklearn.metrics import r2_score,accuracy_score\n",
        "r2=r2_score(ytest,ypred)\n",
        "print(r2)\n"
      ]
    },
    {
      "cell_type": "code",
      "source": [],
      "metadata": {
        "id": "9FRqpVLAQvJy"
      },
      "execution_count": 22,
      "outputs": []
    }
  ]
}